{
 "cells": [
  {
   "cell_type": "code",
   "execution_count": 2,
   "metadata": {},
   "outputs": [
    {
     "data": {
      "text/plain": [
       "('./data/ratings_test.txt', <http.client.HTTPMessage at 0x29c62cad2e0>)"
      ]
     },
     "execution_count": 2,
     "metadata": {},
     "output_type": "execute_result"
    }
   ],
   "source": [
    "import urllib.request\n",
    "import pandas as pd\n",
    "import numpy as np\n",
    "urllib.request.urlretrieve(\"https://raw.githubusercontent.com/e9t/nsmc/master/ratings_train.txt\", \n",
    "                           filename=\"./data/ratings_train.txt\")\n",
    "urllib.request.urlretrieve(\"https://raw.githubusercontent.com/e9t/nsmc/master/ratings_test.txt\", \n",
    "                           filename=\"./data/ratings_test.txt\")"
   ]
  },
  {
   "cell_type": "code",
   "execution_count": 3,
   "metadata": {},
   "outputs": [],
   "source": [
    "train_data=pd.read_table('./data/ratings_train.txt')\n",
    "test_data=pd.read_table('./data/ratings_test.txt')"
   ]
  },
  {
   "attachments": {},
   "cell_type": "markdown",
   "metadata": {},
   "source": [
    "#### 데이터 전처리\n",
    "1. 비어있는 리뷰 처리\n",
    "2. 한글외의 문자는 nan처리\n",
    "3. 같은 리뷰 제거 \n",
    "\n",
    "#### 학습 데이터와 테스트 데이터로 정형화\n",
    "4. x와y로 분리\n",
    "5. 단어로 토큰 \n",
    "6. 패딩\n",
    "7. 모델 구조 설계\n",
    "8. 모델 실행"
   ]
  },
  {
   "cell_type": "code",
   "execution_count": 4,
   "metadata": {},
   "outputs": [
    {
     "name": "stdout",
     "output_type": "stream",
     "text": [
      "<class 'pandas.core.frame.DataFrame'>\n",
      "RangeIndex: 150000 entries, 0 to 149999\n",
      "Data columns (total 3 columns):\n",
      " #   Column    Non-Null Count   Dtype \n",
      "---  ------    --------------   ----- \n",
      " 0   id        150000 non-null  int64 \n",
      " 1   document  149995 non-null  object\n",
      " 2   label     150000 non-null  int64 \n",
      "dtypes: int64(2), object(1)\n",
      "memory usage: 3.4+ MB\n",
      "<class 'pandas.core.frame.DataFrame'>\n",
      "RangeIndex: 50000 entries, 0 to 49999\n",
      "Data columns (total 3 columns):\n",
      " #   Column    Non-Null Count  Dtype \n",
      "---  ------    --------------  ----- \n",
      " 0   id        50000 non-null  int64 \n",
      " 1   document  49997 non-null  object\n",
      " 2   label     50000 non-null  int64 \n",
      "dtypes: int64(2), object(1)\n",
      "memory usage: 1.1+ MB\n"
     ]
    }
   ],
   "source": [
    "train_data.info()\n",
    "test_data.info()"
   ]
  },
  {
   "cell_type": "code",
   "execution_count": 5,
   "metadata": {},
   "outputs": [
    {
     "name": "stdout",
     "output_type": "stream",
     "text": [
      "143681 48417\n",
      "0                                         아 더빙 진짜 짜증나네요 목소리\n",
      "1                                흠포스터보고 초딩영화줄오버연기조차 가볍지 않구나\n",
      "2                                         너무재밓었다그래서보는것을추천한다\n",
      "3                                 교도소 이야기구먼 솔직히 재미는 없다평점 조정\n",
      "4         사이몬페그의 익살스런 연기가 돋보였던 영화스파이더맨에서 늙어보이기만 했던 커스틴 던...\n",
      "                                ...                        \n",
      "149994                  디케이드 다음에 더블 다음에 오즈인데 더블은 조금밖에 안나오네요\n",
      "149995                                      인간이 문제지 소는 뭔죄인가\n",
      "149997                        이게 뭐요 한국인은 거들먹거리고 필리핀 혼혈은 착하다\n",
      "149998                           청춘 영화의 최고봉방황과 우울했던 날들의 자화상\n",
      "149999                             한국 영화 최초로 수간하는 내용이 담긴 영화\n",
      "Name: document, Length: 143681, dtype: object\n"
     ]
    }
   ],
   "source": [
    "#한글을 제외한 문자를 ''로 변경\n",
    "train_data['document']=train_data['document'].str.replace('[^ㄱ-ㅎㅏ-ㅣ가-힣 ' ']','',regex=True)\n",
    "test_data['document']=test_data['document'].str.replace('[^ㄱ-ㅎㅏ-ㅣ가-힣 ' ']','',regex=True)\n",
    "\n",
    "#''를 np.nan으로 변경 ->nan 을 제거\n",
    "train_data['document'].replace('',np.nan,inplace=True)\n",
    "train_data.dropna(inplace=True)\n",
    "test_data['document'].replace('',np.nan,inplace=True)\n",
    "test_data.dropna(inplace=True)\n",
    "\n",
    "#같은 리뷰 제거 \n",
    "train_data.drop_duplicates(subset=['document'], inplace=True)\n",
    "test_data.drop_duplicates(subset=['document'], inplace=True)\n",
    "\n",
    "print(len(train_data),len(test_data))\n",
    "print(train_data['document'])"
   ]
  },
  {
   "cell_type": "code",
   "execution_count": 6,
   "metadata": {},
   "outputs": [],
   "source": [
    "(x_train, y_train), (x_test, y_test) = (train_data['document'],train_data['label']),(test_data['document'],test_data['label'])"
   ]
  },
  {
   "cell_type": "code",
   "execution_count": 9,
   "metadata": {},
   "outputs": [],
   "source": [
    "from tensorflow.keras.preprocessing.text import Tokenizer\n"
   ]
  },
  {
   "cell_type": "code",
   "execution_count": null,
   "metadata": {},
   "outputs": [],
   "source": [
    "token=Tokenizer()\n",
    "token.fit_on_texts(x_train)\n",
    "x=token.texts_to_sequences(x_train)\n",
    "padded_x=pad_sequences(x, maxlen=10)\n"
   ]
  }
 ],
 "metadata": {
  "kernelspec": {
   "display_name": "py3.8",
   "language": "python",
   "name": "python3"
  },
  "language_info": {
   "codemirror_mode": {
    "name": "ipython",
    "version": 3
   },
   "file_extension": ".py",
   "mimetype": "text/x-python",
   "name": "python",
   "nbconvert_exporter": "python",
   "pygments_lexer": "ipython3",
   "version": "3.8.16"
  },
  "orig_nbformat": 4
 },
 "nbformat": 4,
 "nbformat_minor": 2
}
