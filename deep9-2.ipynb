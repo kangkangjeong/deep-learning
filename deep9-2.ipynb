{
 "cells": [
  {
   "cell_type": "code",
   "execution_count": 1,
   "metadata": {},
   "outputs": [],
   "source": [
    "from tensorflow.keras.models import Sequential\n",
    "from tensorflow.keras.models import load_model\n",
    "from tensorflow.keras.layers import Dense , Dropout, Flatten, Conv2D, MaxPooling2D\n",
    "from tensorflow.keras.callbacks import ModelCheckpoint, EarlyStopping\n",
    "\n",
    "from tensorflow.keras.utils import to_categorical\n",
    "\n",
    "import matplotlib.pyplot as plt\n",
    "import numpy as np\n",
    "import pandas as pd\n",
    "\n",
    "\n"
   ]
  },
  {
   "cell_type": "code",
   "execution_count": 2,
   "metadata": {},
   "outputs": [],
   "source": [
    "from keras.datasets import cifar10\n",
    "import ssl\n",
    "ssl._create_default_https_context = ssl._create_unverified_context\n",
    "\n",
    "(x_train, y_train), (x_test, y_test) = cifar10.load_data()"
   ]
  },
  {
   "cell_type": "code",
   "execution_count": 3,
   "metadata": {},
   "outputs": [
    {
     "data": {
      "image/png": "[encoded data removed]",
      "text/plain": [
       "<Figure size 1000x1000 with 1 Axes>"
      ]
     },
     "metadata": {},
     "output_type": "display_data"
    },
    {
     "name": "stdout",
     "output_type": "stream",
     "text": [
      "(32, 32, 3) (50000, 32, 32, 3) (10000, 32, 32, 3)\n"
     ]
    }
   ],
   "source": [
    "plt.figure(figsize=(10, 10))\n",
    "plt.imshow(x_train[0], cmap='Greys')\n",
    "plt.show()\n",
    "print(x_train[0].shape,x_train.shape,x_test.shape)\n",
    "p\n",
    "    x_train = x_train.astype('float32')/255\n",
    "    y_train = x_train.astype('float32')/255"
   ]
  },
  {
   "cell_type": "code",
   "execution_count": 4,
   "metadata": {},
   "outputs": [
    {
     "name": "stdout",
     "output_type": "stream",
     "text": [
      "Model: \"sequential\"\n",
      "_________________________________________________________________\n",
      " Layer (type)                Output Shape              Param #   \n",
      "=================================================================\n",
      " conv2d (Conv2D)             (None, 30, 30, 32)        896       \n",
      "                                                                 \n",
      " conv2d_1 (Conv2D)           (None, 28, 28, 64)        18496     \n",
      "                                                                 \n",
      " max_pooling2d (MaxPooling2D  (None, 14, 14, 64)       0         \n",
      " )                                                               \n",
      "                                                                 \n",
      " dropout (Dropout)           (None, 14, 14, 64)        0         \n",
      "                                                                 \n",
      " flatten (Flatten)           (None, 12544)             0         \n",
      "                                                                 \n",
      " dense (Dense)               (None, 128)               1605760   \n",
      "                                                                 \n",
      " dropout_1 (Dropout)         (None, 128)               0         \n",
      "                                                                 \n",
      " dense_1 (Dense)             (None, 10)                1290      \n",
      "                                                                 \n",
      "=================================================================\n",
      "Total params: 1,626,442\n",
      "Trainable params: 1,626,442\n",
      "Non-trainable params: 0\n",
      "_________________________________________________________________\n"
     ]
    }
   ],
   "source": [
    "model=Sequential()\n",
    "model.add(Conv2D(32, kernel_size=(3, 3),input_shape=(32, 32, 3),activation='relu'))\n",
    "model.add(Conv2D(64, kernel_size=(3, 3),activation='relu'))\n",
    "model.add(MaxPooling2D(pool_size=(2, 2)))\n",
    "model.add(Dropout(0.25))\n",
    "model.add(Flatten())\n",
    "model.add(Dense(128, activation='relu'))\n",
    "model.add(Dropout(0.5))\n",
    "model.add(Dense(10, activation='softmax'))\n",
    "model.summary()\n"
   ]
  },
  {
   "cell_type": "code",
   "execution_count": 5,
   "metadata": {},
   "outputs": [
    {
     "name": "stdout",
     "output_type": "stream",
     "text": [
      "Epoch 1/1000\n",
      "40/40 [==============================] - 43s 1s/step - loss: 10.1935 - accuracy: 0.1754 - val_loss: 1.9220 - val_accuracy: 0.3275\n",
      "Epoch 2/1000\n",
      "40/40 [==============================] - 39s 970ms/step - loss: 1.9068 - accuracy: 0.3159 - val_loss: 1.6980 - val_accuracy: 0.3974\n",
      "Epoch 3/1000\n",
      "40/40 [==============================] - 40s 1s/step - loss: 1.7656 - accuracy: 0.3623 - val_loss: 1.6956 - val_accuracy: 0.3996\n",
      "Epoch 4/1000\n",
      "40/40 [==============================] - 41s 1s/step - loss: 1.6527 - accuracy: 0.4072 - val_loss: 1.6871 - val_accuracy: 0.4253\n",
      "Epoch 5/1000\n",
      "40/40 [==============================] - 40s 990ms/step - loss: 1.6554 - accuracy: 0.4098 - val_loss: 1.5857 - val_accuracy: 0.4362\n",
      "Epoch 6/1000\n",
      "40/40 [==============================] - 40s 1s/step - loss: 1.5571 - accuracy: 0.4412 - val_loss: 1.4661 - val_accuracy: 0.4763\n",
      "Epoch 7/1000\n",
      "40/40 [==============================] - 40s 995ms/step - loss: 1.4628 - accuracy: 0.4764 - val_loss: 1.4112 - val_accuracy: 0.5043\n",
      "Epoch 8/1000\n",
      "40/40 [==============================] - 40s 1s/step - loss: 1.3847 - accuracy: 0.4983 - val_loss: 1.4485 - val_accuracy: 0.4802\n",
      "Epoch 9/1000\n",
      "40/40 [==============================] - 41s 1s/step - loss: 1.3531 - accuracy: 0.5151 - val_loss: 1.3348 - val_accuracy: 0.5331\n",
      "Epoch 10/1000\n",
      "40/40 [==============================] - 41s 1s/step - loss: 1.2743 - accuracy: 0.5426 - val_loss: 1.2982 - val_accuracy: 0.5482\n",
      "Epoch 11/1000\n",
      "40/40 [==============================] - 42s 1s/step - loss: 1.2429 - accuracy: 0.5529 - val_loss: 1.2966 - val_accuracy: 0.5518\n",
      "Epoch 12/1000\n",
      "40/40 [==============================] - 43s 1s/step - loss: 1.1805 - accuracy: 0.5784 - val_loss: 1.2828 - val_accuracy: 0.5600\n",
      "Epoch 13/1000\n",
      "40/40 [==============================] - 44s 1s/step - loss: 1.1488 - accuracy: 0.5895 - val_loss: 1.3329 - val_accuracy: 0.5533\n",
      "Epoch 14/1000\n",
      "40/40 [==============================] - 42s 1s/step - loss: 1.1039 - accuracy: 0.6053 - val_loss: 1.2560 - val_accuracy: 0.5711\n",
      "Epoch 15/1000\n",
      "40/40 [==============================] - 42s 1s/step - loss: 1.0782 - accuracy: 0.6106 - val_loss: 1.2868 - val_accuracy: 0.5674\n",
      "Epoch 16/1000\n",
      "40/40 [==============================] - 38s 963ms/step - loss: 1.0497 - accuracy: 0.6214 - val_loss: 1.2339 - val_accuracy: 0.5847\n",
      "Epoch 17/1000\n",
      "40/40 [==============================] - 40s 1s/step - loss: 1.0170 - accuracy: 0.6325 - val_loss: 1.2472 - val_accuracy: 0.5807\n",
      "Epoch 18/1000\n",
      "40/40 [==============================] - 43s 1s/step - loss: 0.9969 - accuracy: 0.6418 - val_loss: 1.2097 - val_accuracy: 0.5912\n",
      "Epoch 19/1000\n",
      "40/40 [==============================] - 40s 994ms/step - loss: 0.9298 - accuracy: 0.6628 - val_loss: 1.2738 - val_accuracy: 0.5776\n",
      "Epoch 20/1000\n",
      "40/40 [==============================] - 40s 996ms/step - loss: 0.9281 - accuracy: 0.6658 - val_loss: 1.2230 - val_accuracy: 0.5987\n",
      "Epoch 21/1000\n",
      "40/40 [==============================] - 40s 992ms/step - loss: 0.8982 - accuracy: 0.6759 - val_loss: 1.2470 - val_accuracy: 0.5823\n",
      "Epoch 22/1000\n",
      "40/40 [==============================] - 40s 991ms/step - loss: 0.8843 - accuracy: 0.6822 - val_loss: 1.2278 - val_accuracy: 0.5899\n",
      "Epoch 23/1000\n",
      "40/40 [==============================] - 43s 1s/step - loss: 0.8565 - accuracy: 0.6891 - val_loss: 1.2725 - val_accuracy: 0.5814\n",
      "Epoch 24/1000\n",
      "40/40 [==============================] - 42s 1s/step - loss: 0.8447 - accuracy: 0.6969 - val_loss: 1.2524 - val_accuracy: 0.5968\n",
      "Epoch 25/1000\n",
      "40/40 [==============================] - 38s 961ms/step - loss: 0.8138 - accuracy: 0.7056 - val_loss: 1.2147 - val_accuracy: 0.6085\n",
      "Epoch 26/1000\n",
      "40/40 [==============================] - 38s 961ms/step - loss: 0.7898 - accuracy: 0.7164 - val_loss: 1.1890 - val_accuracy: 0.6080\n",
      "Epoch 27/1000\n",
      "40/40 [==============================] - 39s 963ms/step - loss: 0.7624 - accuracy: 0.7250 - val_loss: 1.2534 - val_accuracy: 0.6043\n",
      "Epoch 28/1000\n",
      "40/40 [==============================] - 43s 1s/step - loss: 0.7626 - accuracy: 0.7239 - val_loss: 1.2358 - val_accuracy: 0.6084\n",
      "Epoch 29/1000\n",
      "40/40 [==============================] - 40s 996ms/step - loss: 0.7528 - accuracy: 0.7265 - val_loss: 1.2399 - val_accuracy: 0.6105\n",
      "Epoch 30/1000\n",
      "40/40 [==============================] - 40s 990ms/step - loss: 0.7148 - accuracy: 0.7408 - val_loss: 1.2785 - val_accuracy: 0.6095\n",
      "Epoch 31/1000\n",
      "40/40 [==============================] - 41s 1s/step - loss: 0.7217 - accuracy: 0.7383 - val_loss: 1.2485 - val_accuracy: 0.6063\n",
      "Epoch 32/1000\n",
      "40/40 [==============================] - 40s 998ms/step - loss: 0.6993 - accuracy: 0.7482 - val_loss: 1.2238 - val_accuracy: 0.6178\n",
      "Epoch 33/1000\n",
      "40/40 [==============================] - 40s 1s/step - loss: 0.6965 - accuracy: 0.7474 - val_loss: 1.2348 - val_accuracy: 0.6181\n",
      "Epoch 34/1000\n",
      "40/40 [==============================] - 40s 1s/step - loss: 0.6629 - accuracy: 0.7578 - val_loss: 1.2611 - val_accuracy: 0.6134\n",
      "Epoch 35/1000\n",
      "40/40 [==============================] - 45s 1s/step - loss: 0.6560 - accuracy: 0.7618 - val_loss: 1.2499 - val_accuracy: 0.6211\n",
      "Epoch 36/1000\n",
      "40/40 [==============================] - 43s 1s/step - loss: 0.6492 - accuracy: 0.7646 - val_loss: 1.2187 - val_accuracy: 0.6227\n"
     ]
    }
   ],
   "source": [
    "\n",
    "model.compile(loss='sparse_categorical_crossentropy',optimizer='adam',metrics=['accuracy'])\n",
    "model_path='./data/model/new/cifar10.hdf5'\n",
    "checkpoint = ModelCheckpoint(model_path, monitor='val_loss', verbose=0, save_best_only=True)\n",
    "early_stopping = EarlyStopping(monitor='val_loss', patience=10)\n",
    "history= model.fit(x_train,y_train,batch_size=1024,epochs=1000,verbose=1,\n",
    "                   validation_split=0.2,callbacks=[checkpoint,early_stopping])\n"
   ]
  },
  {
   "cell_type": "code",
   "execution_count": 7,
   "metadata": {},
   "outputs": [
    {
     "name": "stdout",
     "output_type": "stream",
     "text": [
      "학습정확도: 0.7646250128746033\n",
      "검증정확도: 0.6226999759674072\n",
      "테스트정확도: 0.6107000112533569\n"
     ]
    }
   ],
   "source": [
    "print('학습정확도:',history.history['accuracy'][-1])\n",
    "print('검증정확도:',history.history['val_accuracy'][-1])\n",
    "print('테스트정확도:',model.evaluate(x_test,y_test,verbose=0)[1])"
   ]
  },
  {
   "cell_type": "code",
   "execution_count": 1,
   "metadata": {},
   "outputs": [
    {
     "ename": "NameError",
     "evalue": "name 'plt' is not defined",
     "output_type": "error",
     "traceback": [
      "\u001b[1;31m---------------------------------------------------------------------------\u001b[0m",
      "\u001b[1;31mNameError\u001b[0m                                 Traceback (most recent call last)",
      "Cell \u001b[1;32mIn[1], line 1\u001b[0m\n\u001b[1;32m----> 1\u001b[0m fig \u001b[39m=\u001b[39m plt\u001b[39m.\u001b[39mfigure(figsize\u001b[39m=\u001b[39m(\u001b[39m0.5\u001b[39m,\u001b[39m0.5\u001b[39m))\n\u001b[0;32m      3\u001b[0m ax1 \u001b[39m=\u001b[39m fig\u001b[39m.\u001b[39madd_subplot(\u001b[39m1\u001b[39m, \u001b[39m2\u001b[39m, \u001b[39m1\u001b[39m)\n\u001b[0;32m      4\u001b[0m ax2 \u001b[39m=\u001b[39m fig\u001b[39m.\u001b[39madd_subplot(\u001b[39m1\u001b[39m, \u001b[39m2\u001b[39m, \u001b[39m2\u001b[39m)\n",
      "\u001b[1;31mNameError\u001b[0m: name 'plt' is not defined"
     ]
    }
   ],
   "source": [
    "fig = plt.figure(figsize=(0.5,0.5))\n",
    "\n",
    "ax1 = fig.add_subplot(1, 2, 1)\n",
    "ax2 = fig.add_subplot(1, 2, 2)\n",
    "\n",
    "ax1.imshow(x_train[3001], cmap='gray')\n",
    "ax2.imshow(x_test[3001], cmap='gray')\n",
    "\n",
    "plt.show()\n",
    "model.predict(x_test[2999:3000]).argmax()"
   ]
  },
  {
   "cell_type": "code",
   "execution_count": 30,
   "metadata": {},
   "outputs": [
    {
     "data": {
      "text/html": [
       "<div>\n",
       "<style scoped>\n",
       "    .dataframe tbody tr th:only-of-type {\n",
       "        vertical-align: middle;\n",
       "    }\n",
       "\n",
       "    .dataframe tbody tr th {\n",
       "        vertical-align: top;\n",
       "    }\n",
       "\n",
       "    .dataframe thead th {\n",
       "        text-align: right;\n",
       "    }\n",
       "</style>\n",
       "<table border=\"1\" class=\"dataframe\">\n",
       "  <thead>\n",
       "    <tr style=\"text-align: right;\">\n",
       "      <th></th>\n",
       "      <th>종류</th>\n",
       "    </tr>\n",
       "    <tr>\n",
       "      <th>Label</th>\n",
       "      <th></th>\n",
       "    </tr>\n",
       "  </thead>\n",
       "  <tbody>\n",
       "    <tr>\n",
       "      <th>0</th>\n",
       "      <td>airplane</td>\n",
       "    </tr>\n",
       "    <tr>\n",
       "      <th>1</th>\n",
       "      <td>automobile</td>\n",
       "    </tr>\n",
       "    <tr>\n",
       "      <th>2</th>\n",
       "      <td>bird</td>\n",
       "    </tr>\n",
       "    <tr>\n",
       "      <th>3</th>\n",
       "      <td>cat</td>\n",
       "    </tr>\n",
       "    <tr>\n",
       "      <th>4</th>\n",
       "      <td>deer</td>\n",
       "    </tr>\n",
       "    <tr>\n",
       "      <th>5</th>\n",
       "      <td>dog</td>\n",
       "    </tr>\n",
       "    <tr>\n",
       "      <th>6</th>\n",
       "      <td>frog</td>\n",
       "    </tr>\n",
       "    <tr>\n",
       "      <th>7</th>\n",
       "      <td>horse</td>\n",
       "    </tr>\n",
       "    <tr>\n",
       "      <th>8</th>\n",
       "      <td>ship</td>\n",
       "    </tr>\n",
       "    <tr>\n",
       "      <th>9</th>\n",
       "      <td>truck</td>\n",
       "    </tr>\n",
       "  </tbody>\n",
       "</table>\n",
       "</div>"
      ],
      "text/plain": [
       "               종류\n",
       "Label            \n",
       "0        airplane\n",
       "1      automobile\n",
       "2            bird\n",
       "3             cat\n",
       "4            deer\n",
       "5             dog\n",
       "6            frog\n",
       "7           horse\n",
       "8            ship\n",
       "9           truck"
      ]
     },
     "execution_count": 30,
     "metadata": {},
     "output_type": "execute_result"
    }
   ],
   "source": [
    "data = {'Label': [0, 1, 2, 3, 4, 5, 6, 7, 8, 9],\n",
    "        'Description': ['airplane', 'automobile', 'bird', 'cat', 'deer', 'dog', 'frog', 'horse', 'ship', 'truck']}\n",
    "df = pd.DataFrame(data)\n",
    "df.set_index('Label', inplace=True)\n",
    "df.columns = ['종류']\n",
    "df"
   ]
  }
 ],
 "metadata": {
  "kernelspec": {
   "display_name": "py3.8",
   "language": "python",
   "name": "python3"
  },
  "language_info": {
   "codemirror_mode": {
    "name": "ipython",
    "version": 3
   },
   "file_extension": ".py",
   "mimetype": "text/x-python",
   "name": "python",
   "nbconvert_exporter": "python",
   "pygments_lexer": "ipython3",
   "version": "3.8.16"
  },
  "orig_nbformat": 4
 },
 "nbformat": 4,
 "nbformat_minor": 2
}
