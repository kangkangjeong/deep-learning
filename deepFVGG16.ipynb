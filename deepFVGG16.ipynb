{
 "cells": [
  {
   "cell_type": "code",
   "execution_count": 1,
   "metadata": {},
   "outputs": [],
   "source": [
    "import matplotlib.pyplot as plt\n",
    "import numpy as np\n",
    "\n",
    "from tensorflow.keras import optimizers\n",
    "from tensorflow.keras.applications import VGG16 \n",
    "from tensorflow.keras.callbacks import EarlyStopping\n",
    "from tensorflow.keras.layers import Activation, Dense, Dropout, Flatten\n",
    "from tensorflow.keras.models import Sequential\n",
    "from tensorflow.keras.preprocessing.image import ImageDataGenerator"
   ]
  },
  {
   "cell_type": "code",
   "execution_count": null,
   "metadata": {},
   "outputs": [],
   "source": [
    "# 케라스 어플리케이션 모델 불러오기 https://keras.io/ko/applications/\n",
    "# from tensorflow.keras.applications import VGG16 \n",
    "# transfer_model=VGG16(input_shape=(150, 150, 3),#classifier_activation='None'\n",
    "#                      include_top=False)\n",
    "# transfer_model.trainable = False\n",
    "# transfer_model.summary()"
   ]
  },
  {
   "cell_type": "code",
   "execution_count": 2,
   "metadata": {},
   "outputs": [
    {
     "name": "stdout",
     "output_type": "stream",
     "text": [
      "Found 160 images belonging to 2 classes.\n",
      "Found 120 images belonging to 2 classes.\n"
     ]
    }
   ],
   "source": [
    "train_datagen=ImageDataGenerator(rescale=1./255, #정규화\n",
    "                   horizontal_flip=True, #수평으로 뒤집기\n",
    "                   width_shift_range=0.1, #수평이동\n",
    "                   height_shift_range=0.1, #수직이동\n",
    "                   fill_mode='nearest') #빈공간 채우는 방법\n",
    "\n",
    "\n",
    "train_generator=train_datagen.flow_from_directory('./generator/train/',\n",
    "                                                target_size=(150,150),\n",
    "                                                batch_size=5,\n",
    "                                                class_mode='binary')\n",
    "\n",
    "test_datagen=ImageDataGenerator(rescale=1./255, #정규화\n",
    "                   horizontal_flip=True, #수평으로 뒤집기\n",
    "                   width_shift_range=0.1, #수평이동\n",
    "                   height_shift_range=0.1, #수직이동\n",
    "                   fill_mode='nearest') #빈공간 채우는 방법\n",
    "\n",
    "\n",
    "test_generator=train_datagen.flow_from_directory('./generator/test/',\n",
    "                                                target_size=(150,150),\n",
    "                                                batch_size=5,\n",
    "                                                class_mode='binary')\n"
   ]
  },
  {
   "cell_type": "code",
   "execution_count": 3,
   "metadata": {},
   "outputs": [
    {
     "name": "stdout",
     "output_type": "stream",
     "text": [
      "Model: \"vgg16\"\n",
      "_________________________________________________________________\n",
      " Layer (type)                Output Shape              Param #   \n",
      "=================================================================\n",
      " input_1 (InputLayer)        [(None, 150, 150, 3)]     0         \n",
      "                                                                 \n",
      " block1_conv1 (Conv2D)       (None, 150, 150, 64)      1792      \n",
      "                                                                 \n",
      " block1_conv2 (Conv2D)       (None, 150, 150, 64)      36928     \n",
      "                                                                 \n",
      " block1_pool (MaxPooling2D)  (None, 75, 75, 64)        0         \n",
      "                                                                 \n",
      " block2_conv1 (Conv2D)       (None, 75, 75, 128)       73856     \n",
      "                                                                 \n",
      " block2_conv2 (Conv2D)       (None, 75, 75, 128)       147584    \n",
      "                                                                 \n",
      " block2_pool (MaxPooling2D)  (None, 37, 37, 128)       0         \n",
      "                                                                 \n",
      " block3_conv1 (Conv2D)       (None, 37, 37, 256)       295168    \n",
      "                                                                 \n",
      " block3_conv2 (Conv2D)       (None, 37, 37, 256)       590080    \n",
      "                                                                 \n",
      " block3_conv3 (Conv2D)       (None, 37, 37, 256)       590080    \n",
      "                                                                 \n",
      " block3_pool (MaxPooling2D)  (None, 18, 18, 256)       0         \n",
      "                                                                 \n",
      " block4_conv1 (Conv2D)       (None, 18, 18, 512)       1180160   \n",
      "                                                                 \n",
      " block4_conv2 (Conv2D)       (None, 18, 18, 512)       2359808   \n",
      "                                                                 \n",
      " block4_conv3 (Conv2D)       (None, 18, 18, 512)       2359808   \n",
      "                                                                 \n",
      " block4_pool (MaxPooling2D)  (None, 9, 9, 512)         0         \n",
      "                                                                 \n",
      " block5_conv1 (Conv2D)       (None, 9, 9, 512)         2359808   \n",
      "                                                                 \n",
      " block5_conv2 (Conv2D)       (None, 9, 9, 512)         2359808   \n",
      "                                                                 \n",
      " block5_conv3 (Conv2D)       (None, 9, 9, 512)         2359808   \n",
      "                                                                 \n",
      " block5_pool (MaxPooling2D)  (None, 4, 4, 512)         0         \n",
      "                                                                 \n",
      "=================================================================\n",
      "Total params: 14,714,688\n",
      "Trainable params: 0\n",
      "Non-trainable params: 14,714,688\n",
      "_________________________________________________________________\n"
     ]
    }
   ],
   "source": [
    "transfer_model=VGG16(input_shape=(150, 150, 3),#classifier_activation='None'\n",
    "                     include_top=False)\n",
    "transfer_model.trainable = False\n",
    "transfer_model.summary()"
   ]
  },
  {
   "cell_type": "code",
   "execution_count": 4,
   "metadata": {},
   "outputs": [
    {
     "name": "stdout",
     "output_type": "stream",
     "text": [
      "Model: \"sequential\"\n",
      "_________________________________________________________________\n",
      " Layer (type)                Output Shape              Param #   \n",
      "=================================================================\n",
      " vgg16 (Functional)          (None, 4, 4, 512)         14714688  \n",
      "                                                                 \n",
      " flatten (Flatten)           (None, 8192)              0         \n",
      "                                                                 \n",
      " dense (Dense)               (None, 64)                524352    \n",
      "                                                                 \n",
      " dropout (Dropout)           (None, 64)                0         \n",
      "                                                                 \n",
      " dense_1 (Dense)             (None, 1)                 65        \n",
      "                                                                 \n",
      "=================================================================\n",
      "Total params: 15,239,105\n",
      "Trainable params: 524,417\n",
      "Non-trainable params: 14,714,688\n",
      "_________________________________________________________________\n"
     ]
    }
   ],
   "source": [
    "model=Sequential()\n",
    "model.add(transfer_model)\n",
    "model.add(Flatten())\n",
    "model.add(Dense(64,activation='relu'))\n",
    "model.add(Dropout(0.5)) #랜덤하게 이미지같은경우 공백이많아서\n",
    "model.add(Dense(1,activation='sigmoid'))\n",
    "model.summary()"
   ]
  },
  {
   "cell_type": "code",
   "execution_count": 5,
   "metadata": {},
   "outputs": [
    {
     "name": "stdout",
     "output_type": "stream",
     "text": [
      "Epoch 1/20\n",
      "32/32 [==============================] - 10s 283ms/step - loss: 0.9716 - accuracy: 0.5500 - val_loss: 0.6078 - val_accuracy: 0.5800\n",
      "Epoch 2/20\n",
      "32/32 [==============================] - 9s 283ms/step - loss: 0.5532 - accuracy: 0.6500 - val_loss: 0.4754 - val_accuracy: 0.9000\n",
      "Epoch 3/20\n",
      "32/32 [==============================] - 9s 277ms/step - loss: 0.6163 - accuracy: 0.6875 - val_loss: 0.5421 - val_accuracy: 0.8400\n",
      "Epoch 4/20\n",
      "32/32 [==============================] - 9s 286ms/step - loss: 0.4709 - accuracy: 0.7312 - val_loss: 0.5148 - val_accuracy: 0.7200\n",
      "Epoch 5/20\n",
      "32/32 [==============================] - 9s 275ms/step - loss: 0.4723 - accuracy: 0.7250 - val_loss: 0.3356 - val_accuracy: 0.9000\n",
      "Epoch 6/20\n",
      "32/32 [==============================] - 9s 276ms/step - loss: 0.3987 - accuracy: 0.7500 - val_loss: 0.3598 - val_accuracy: 0.8400\n",
      "Epoch 7/20\n",
      "32/32 [==============================] - 10s 320ms/step - loss: 0.4165 - accuracy: 0.7937 - val_loss: 0.2305 - val_accuracy: 0.9600\n",
      "Epoch 8/20\n",
      "32/32 [==============================] - 9s 282ms/step - loss: 0.4184 - accuracy: 0.7937 - val_loss: 0.2894 - val_accuracy: 0.9400\n",
      "Epoch 9/20\n",
      "32/32 [==============================] - 9s 281ms/step - loss: 0.4188 - accuracy: 0.7500 - val_loss: 0.2604 - val_accuracy: 0.9400\n",
      "Epoch 10/20\n",
      "32/32 [==============================] - 9s 286ms/step - loss: 0.3887 - accuracy: 0.7875 - val_loss: 0.2430 - val_accuracy: 0.9200\n",
      "Epoch 11/20\n",
      "32/32 [==============================] - 9s 281ms/step - loss: 0.3939 - accuracy: 0.8250 - val_loss: 0.3660 - val_accuracy: 0.9400\n",
      "Epoch 12/20\n",
      "32/32 [==============================] - 9s 288ms/step - loss: 0.3937 - accuracy: 0.8000 - val_loss: 0.2609 - val_accuracy: 0.9000\n"
     ]
    }
   ],
   "source": [
    "model.compile(loss='binary_crossentropy', \n",
    "              optimizer=optimizers.Adam(learning_rate=0.002), metrics=['accuracy'])\n",
    "early_stopping = EarlyStopping(monitor='val_loss', patience=5, verbose=0)\n",
    "\n",
    "history = model.fit(train_generator,epochs=20,\n",
    "                    validation_data=test_generator,\n",
    "                    validation_steps=10,\n",
    "                    callbacks=[early_stopping])"
   ]
  },
  {
   "cell_type": "code",
   "execution_count": 6,
   "metadata": {},
   "outputs": [
    {
     "data": {
      "image/png": "[encoded data removed]",
      "text/plain": [
       "<Figure size 640x480 with 1 Axes>"
      ]
     },
     "metadata": {},
     "output_type": "display_data"
    }
   ],
   "source": [
    "y_vloss=history.history['val_loss']\n",
    "y_loss=history.history['loss']\n",
    "x_len=np.arange(len(y_vloss))\n",
    "plt.plot(x_len,y_loss,label='loss',marker='.',c='red')\n",
    "plt.plot(x_len,y_vloss,label='v_loss',marker='.',c='blue')\n",
    "plt.legend(loc='upper right')\n",
    "plt.grid(True)\n",
    "plt.xlabel('epoch')\n",
    "plt.ylabel('loss')\n",
    "plt.show()"
   ]
  }
 ],
 "metadata": {
  "kernelspec": {
   "display_name": "py3.8",
   "language": "python",
   "name": "python3"
  },
  "language_info": {
   "codemirror_mode": {
    "name": "ipython",
    "version": 3
   },
   "file_extension": ".py",
   "mimetype": "text/x-python",
   "name": "python",
   "nbconvert_exporter": "python",
   "pygments_lexer": "ipython3",
   "version": "3.8.16"
  },
  "orig_nbformat": 4
 },
 "nbformat": 4,
 "nbformat_minor": 2
}
