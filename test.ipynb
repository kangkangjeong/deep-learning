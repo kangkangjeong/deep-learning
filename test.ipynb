{
 "cells": [
  {
   "cell_type": "code",
   "execution_count": 79,
   "metadata": {},
   "outputs": [
    {
     "name": "stdout",
     "output_type": "stream",
     "text": [
      "(60000, 28, 28) (60000,) (10000, 28, 28) (10000,)\n",
      "(60000, 784) (60000,) (10000, 784) (10000,)\n"
     ]
    }
   ],
   "source": [
    "from tensorflow.keras.models import Sequential\n",
    "from tensorflow.keras.layers import Dense\n",
    "from tensorflow.keras.callbacks import ModelCheckpoint,EarlyStopping\n",
    "from tensorflow.keras.utils import to_categorical\n",
    "from sklearn.model_selection import train_test_split\n",
    "\n",
    "import matplotlib.pyplot as plt\n",
    "import numpy as np\n",
    "import pandas as pd\n",
    "\n",
    "from tensorflow.keras.datasets import fashion_mnist\n",
    "\n",
    "(x_train, y_train), (x_test, y_test) = mnist.load_data()\n",
    "# x_train, x_test, y_train, y_test = train_test_split(x_train, y_train, test_size=0.2, random_state=42)\n",
    "print(x_train.shape, y_train.shape,x_test.shape, y_test.shape)\n",
    "\n",
    "x_train = x_train.reshape(-1,28*28).astype('float32') / 255\n",
    "x_test = x_test.reshape(-1,28*28).astype('float32') / 255\n",
    "print(x_train.shape, y_train.shape,x_test.shape, y_test.shape)"
   ]
  },
  {
   "cell_type": "code",
   "execution_count": 35,
   "metadata": {},
   "outputs": [],
   "source": [
    "#카테고리 데이터로 변환\n",
    "y_train=to_categorical(y_train,10)\n",
    "y_test=to_categorical(y_test,10)"
   ]
  },
  {
   "cell_type": "code",
   "execution_count": 39,
   "metadata": {},
   "outputs": [
    {
     "name": "stdout",
     "output_type": "stream",
     "text": [
      "Epoch 1/100\n",
      "90/90 [==============================] - 3s 18ms/step - loss: 0.4805 - accuracy: 0.8688 - val_loss: 0.2388 - val_accuracy: 0.9322\n",
      "Epoch 2/100\n",
      "90/90 [==============================] - 1s 14ms/step - loss: 0.2048 - accuracy: 0.9415 - val_loss: 0.1813 - val_accuracy: 0.9489\n",
      "Epoch 3/100\n",
      "90/90 [==============================] - 1s 14ms/step - loss: 0.1460 - accuracy: 0.9589 - val_loss: 0.1446 - val_accuracy: 0.9591\n",
      "Epoch 4/100\n",
      "90/90 [==============================] - 1s 14ms/step - loss: 0.1115 - accuracy: 0.9697 - val_loss: 0.1261 - val_accuracy: 0.9633\n",
      "Epoch 5/100\n",
      "90/90 [==============================] - 1s 15ms/step - loss: 0.0891 - accuracy: 0.9754 - val_loss: 0.1128 - val_accuracy: 0.9663\n",
      "Epoch 6/100\n",
      "90/90 [==============================] - 1s 13ms/step - loss: 0.0716 - accuracy: 0.9811 - val_loss: 0.1043 - val_accuracy: 0.9691\n",
      "Epoch 7/100\n",
      "90/90 [==============================] - 1s 13ms/step - loss: 0.0594 - accuracy: 0.9842 - val_loss: 0.0985 - val_accuracy: 0.9707\n",
      "Epoch 8/100\n",
      "90/90 [==============================] - 1s 12ms/step - loss: 0.0497 - accuracy: 0.9869 - val_loss: 0.0949 - val_accuracy: 0.9713\n",
      "Epoch 9/100\n",
      "90/90 [==============================] - 1s 12ms/step - loss: 0.0413 - accuracy: 0.9901 - val_loss: 0.0903 - val_accuracy: 0.9735\n",
      "Epoch 10/100\n",
      "90/90 [==============================] - 1s 12ms/step - loss: 0.0356 - accuracy: 0.9916 - val_loss: 0.0869 - val_accuracy: 0.9727\n",
      "Epoch 11/100\n",
      "90/90 [==============================] - 1s 13ms/step - loss: 0.0298 - accuracy: 0.9933 - val_loss: 0.0867 - val_accuracy: 0.9733\n",
      "Epoch 12/100\n",
      "90/90 [==============================] - 1s 12ms/step - loss: 0.0251 - accuracy: 0.9947 - val_loss: 0.0850 - val_accuracy: 0.9739\n",
      "Epoch 13/100\n",
      "90/90 [==============================] - 1s 12ms/step - loss: 0.0210 - accuracy: 0.9962 - val_loss: 0.0881 - val_accuracy: 0.9739\n",
      "Epoch 14/100\n",
      "90/90 [==============================] - 1s 12ms/step - loss: 0.0181 - accuracy: 0.9970 - val_loss: 0.0839 - val_accuracy: 0.9753\n",
      "Epoch 15/100\n",
      "90/90 [==============================] - 1s 13ms/step - loss: 0.0153 - accuracy: 0.9978 - val_loss: 0.0826 - val_accuracy: 0.9747\n",
      "Epoch 16/100\n",
      "90/90 [==============================] - 1s 12ms/step - loss: 0.0132 - accuracy: 0.9984 - val_loss: 0.0825 - val_accuracy: 0.9763\n",
      "Epoch 17/100\n",
      "90/90 [==============================] - 1s 13ms/step - loss: 0.0113 - accuracy: 0.9987 - val_loss: 0.0817 - val_accuracy: 0.9759\n",
      "Epoch 18/100\n",
      "90/90 [==============================] - 1s 12ms/step - loss: 0.0097 - accuracy: 0.9993 - val_loss: 0.0834 - val_accuracy: 0.9761\n",
      "Epoch 19/100\n",
      "90/90 [==============================] - 1s 12ms/step - loss: 0.0083 - accuracy: 0.9994 - val_loss: 0.0820 - val_accuracy: 0.9767\n",
      "Epoch 20/100\n",
      "90/90 [==============================] - 1s 11ms/step - loss: 0.0073 - accuracy: 0.9995 - val_loss: 0.0835 - val_accuracy: 0.9765\n",
      "Epoch 21/100\n",
      "90/90 [==============================] - 1s 11ms/step - loss: 0.0067 - accuracy: 0.9995 - val_loss: 0.0857 - val_accuracy: 0.9757\n",
      "Epoch 22/100\n",
      "90/90 [==============================] - 1s 13ms/step - loss: 0.0057 - accuracy: 0.9997 - val_loss: 0.0836 - val_accuracy: 0.9769\n",
      "Epoch 23/100\n",
      "90/90 [==============================] - 1s 12ms/step - loss: 0.0050 - accuracy: 0.9998 - val_loss: 0.0851 - val_accuracy: 0.9767\n",
      "Epoch 24/100\n",
      "90/90 [==============================] - 1s 12ms/step - loss: 0.0041 - accuracy: 1.0000 - val_loss: 0.0855 - val_accuracy: 0.9770\n",
      "Epoch 25/100\n",
      "90/90 [==============================] - 1s 12ms/step - loss: 0.0037 - accuracy: 0.9999 - val_loss: 0.0849 - val_accuracy: 0.9766\n",
      "Epoch 26/100\n",
      "90/90 [==============================] - 1s 13ms/step - loss: 0.0033 - accuracy: 0.9999 - val_loss: 0.0873 - val_accuracy: 0.9765\n",
      "Epoch 27/100\n",
      "90/90 [==============================] - 1s 12ms/step - loss: 0.0029 - accuracy: 1.0000 - val_loss: 0.0853 - val_accuracy: 0.9774\n"
     ]
    }
   ],
   "source": [
    "model=Sequential()\n",
    "model.add(Dense(512, activation='relu', input_dim=x_train.shape[1]))\n",
    "model.add(Dense(10, activation='softmax')) \n",
    "model.compile(loss='categorical_crossentropy', optimizer='adam', metrics=['accuracy'])\n",
    "\n",
    "model_checkpoint = ModelCheckpoint('./data/model/new/best.hdf5', monitor='val_loss', verbose=0, save_best_only=True)\n",
    "earlyStopping = EarlyStopping(monitor='val_loss', patience=10)\n",
    "history=model.fit(x_train, y_train, epochs=100, batch_size=500,callbacks=[model_checkpoint,earlyStopping],validation_split=0.25)\n"
   ]
  },
  {
   "cell_type": "code",
   "execution_count": 40,
   "metadata": {},
   "outputs": [
    {
     "name": "stdout",
     "output_type": "stream",
     "text": [
      "313/313 [==============================] - 2s 5ms/step - loss: 0.0699 - accuracy: 0.9798\n",
      "Test loss: 0.07\n",
      "Test accuracy: 0.98\n"
     ]
    }
   ],
   "source": [
    "loss, accuracy = model.evaluate(x_test, y_test, verbose=1)\n",
    "print(f\"Test loss: {loss:.2f}\")\n",
    "print(f\"Test accuracy: {accuracy:.2f}\")"
   ]
  },
  {
   "cell_type": "code",
   "execution_count": 43,
   "metadata": {},
   "outputs": [
    {
     "data": {
      "image/png": "[encoded data removed]",
      "text/plain": [
       "<Figure size 640x480 with 1 Axes>"
      ]
     },
     "metadata": {},
     "output_type": "display_data"
    }
   ],
   "source": [
    "\n",
    "y_vloss =history.history['val_loss']\n",
    "y_loss =history.history['loss']\n",
    "\n",
    "x_len = np.arange(len(y_loss))\n",
    "plt.plot(x_len, y_vloss, marker='.', c=\"red\", label='Testset_loss')\n",
    "plt.plot(x_len, y_loss, marker='.', c=\"blue\", label='Trainset_loss')\n",
    "\n",
    "plt.legend(loc='best')\n",
    "plt.grid()\n",
    "plt.xlabel('epoch')\n",
    "plt.ylabel('loss')\n",
    "plt.show()"
   ]
  },
  {
   "cell_type": "code",
   "execution_count": 87,
   "metadata": {},
   "outputs": [
    {
     "name": "stdout",
     "output_type": "stream",
     "text": [
      "(321, 322)\n"
     ]
    },
    {
     "data": {
      "text/plain": [
       "(28, 28)"
      ]
     },
     "execution_count": 87,
     "metadata": {},
     "output_type": "execute_result"
    }
   ],
   "source": [
    "import cv2\n",
    "import numpy as np\n",
    "from PIL import Image\n",
    "\n",
    "# 이미지 열기\n",
    "im = Image.open('../다운로드한 이미지파일 활용/test.jpg')\n",
    "\n",
    "# 이미지 크기 출력\n",
    "print(im.size)\n",
    "\n",
    "# 이미지를 numpy 배열로 변환\n",
    "im_array = np.array(im)\n",
    "\n",
    "# 컬러 이미지를 그레이스케일 이미지로 변환\n",
    "im_gray = cv2.cvtColor(im_array, cv2.COLOR_BGR2GRAY)\n",
    "\n",
    "# 이미지 크기 조정\n",
    "im_gray = cv2.resize(im_gray, (28, 28))\n",
    "\n",
    "# 이미지를 numpy 배열로 변환\n",
    "img_array = np.array(im_gray)\n",
    "img_array.shape"
   ]
  },
  {
   "cell_type": "code",
   "execution_count": 92,
   "metadata": {},
   "outputs": [
    {
     "name": "stdout",
     "output_type": "stream",
     "text": [
      "1/1 [==============================] - 0s 110ms/step - loss: 0.0000e+00 - accuracy: 0.0000e+00\n",
      "Loss: 0.0\n",
      "Accuracy: 0.0\n"
     ]
    }
   ],
   "source": [
    "# 이미지를 1차원 배열로 변환\n",
    "img_array = img_array.reshape(1, 784)\n",
    "\n",
    "# 모델 평가\n",
    "loss, accuracy = model.evaluate(img_array, verbose=1)\n",
    "\n",
    "# 결과 출력\n",
    "print('Loss:', loss)\n",
    "print('Accuracy:', accuracy)"
   ]
  }
 ],
 "metadata": {
  "kernelspec": {
   "display_name": "py3.8",
   "language": "python",
   "name": "python3"
  },
  "language_info": {
   "codemirror_mode": {
    "name": "ipython",
    "version": 3
   },
   "file_extension": ".py",
   "mimetype": "text/x-python",
   "name": "python",
   "nbconvert_exporter": "python",
   "pygments_lexer": "ipython3",
   "version": "3.8.16"
  },
  "orig_nbformat": 4
 },
 "nbformat": 4,
 "nbformat_minor": 2
}
